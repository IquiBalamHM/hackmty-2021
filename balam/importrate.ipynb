{
 "cells": [
  {
   "cell_type": "code",
   "execution_count": 1,
   "source": [
    "import pandas as pd\r\n",
    "import numpy as np\r\n",
    "import matplotlib.pyplot as plt\r\n",
    "import seaborn as sn\r\n",
    "from datetime import datetime"
   ],
   "outputs": [],
   "metadata": {}
  },
  {
   "cell_type": "code",
   "execution_count": 2,
   "source": [
    "#tipo = pd.read_csv(\"./../data/tipocambio.csv\")\r\n",
    "#tipo.Fecha = (tipo.Fecha.apply(lambda d: datetime.strptime(d,\"%m/%d/%Y\")))"
   ],
   "outputs": [],
   "metadata": {}
  },
  {
   "cell_type": "code",
   "execution_count": 71,
   "source": [
    "#tipo = tipo.set_index('Fecha').resample('2W').size().reset_index(name='Tasa')\r\n",
    "tipo_cambio = pd.read_csv(\"./../data/tasacambio.csv\")\r\n",
    "tipo_cambio.set_index('Fecha')"
   ],
   "outputs": [
    {
     "output_type": "execute_result",
     "data": {
      "text/plain": [
       "                 Tipo\n",
       "Fecha                \n",
       "01/01/2000   9.493350\n",
       "15/01/2000   9.489450\n",
       "01/02/2000   9.458150\n",
       "15/02/2000   9.384200\n",
       "01/03/2000   9.306000\n",
       "...               ...\n",
       "01/06/2021  19.887108\n",
       "15/06/2021  20.166879\n",
       "01/07/2021  19.911242\n",
       "15/07/2021  19.980171\n",
       "01/08/2021  19.964100\n",
       "\n",
       "[519 rows x 1 columns]"
      ],
      "text/html": [
       "<div>\n",
       "<style scoped>\n",
       "    .dataframe tbody tr th:only-of-type {\n",
       "        vertical-align: middle;\n",
       "    }\n",
       "\n",
       "    .dataframe tbody tr th {\n",
       "        vertical-align: top;\n",
       "    }\n",
       "\n",
       "    .dataframe thead th {\n",
       "        text-align: right;\n",
       "    }\n",
       "</style>\n",
       "<table border=\"1\" class=\"dataframe\">\n",
       "  <thead>\n",
       "    <tr style=\"text-align: right;\">\n",
       "      <th></th>\n",
       "      <th>Tipo</th>\n",
       "    </tr>\n",
       "    <tr>\n",
       "      <th>Fecha</th>\n",
       "      <th></th>\n",
       "    </tr>\n",
       "  </thead>\n",
       "  <tbody>\n",
       "    <tr>\n",
       "      <th>01/01/2000</th>\n",
       "      <td>9.493350</td>\n",
       "    </tr>\n",
       "    <tr>\n",
       "      <th>15/01/2000</th>\n",
       "      <td>9.489450</td>\n",
       "    </tr>\n",
       "    <tr>\n",
       "      <th>01/02/2000</th>\n",
       "      <td>9.458150</td>\n",
       "    </tr>\n",
       "    <tr>\n",
       "      <th>15/02/2000</th>\n",
       "      <td>9.384200</td>\n",
       "    </tr>\n",
       "    <tr>\n",
       "      <th>01/03/2000</th>\n",
       "      <td>9.306000</td>\n",
       "    </tr>\n",
       "    <tr>\n",
       "      <th>...</th>\n",
       "      <td>...</td>\n",
       "    </tr>\n",
       "    <tr>\n",
       "      <th>01/06/2021</th>\n",
       "      <td>19.887108</td>\n",
       "    </tr>\n",
       "    <tr>\n",
       "      <th>15/06/2021</th>\n",
       "      <td>20.166879</td>\n",
       "    </tr>\n",
       "    <tr>\n",
       "      <th>01/07/2021</th>\n",
       "      <td>19.911242</td>\n",
       "    </tr>\n",
       "    <tr>\n",
       "      <th>15/07/2021</th>\n",
       "      <td>19.980171</td>\n",
       "    </tr>\n",
       "    <tr>\n",
       "      <th>01/08/2021</th>\n",
       "      <td>19.964100</td>\n",
       "    </tr>\n",
       "  </tbody>\n",
       "</table>\n",
       "<p>519 rows × 1 columns</p>\n",
       "</div>"
      ]
     },
     "metadata": {},
     "execution_count": 71
    }
   ],
   "metadata": {}
  },
  {
   "cell_type": "code",
   "execution_count": 84,
   "source": [
    "custom_date_parser = lambda x: datetime.strptime(x, \"%d/%m/%Y\")\r\n",
    "tiie = pd.read_csv(\"./../data/TIIE.csv\",parse_dates = [\"Fecha\"],date_parser = custom_date_parser)\r\n",
    "tiie.set_index(\"Fecha\",inplace=True)\r\n",
    "tiie = tiie.sort_index()\r\n",
    "\r\n",
    "#total data_set\r\n",
    "idx = pd.date_range('2000-01-01', periods=tipo_cambio.shape[0], freq='SMS')\r\n",
    "tiie.index = pd.DatetimeIndex(tiie.index)\r\n",
    "tiie = tiie.reindex(idx,fill_value = np.NaN)\r\n",
    "tiie = tiie.interpolate()\r\n",
    "print(tiie)"
   ],
   "outputs": [
    {
     "output_type": "stream",
     "name": "stdout",
     "text": [
      "                 TIIE\n",
      "2000-01-01  18.426667\n",
      "2000-01-15  18.499167\n",
      "2000-02-01  18.571667\n",
      "2000-02-15  17.635278\n",
      "2000-03-01  16.698889\n",
      "...               ...\n",
      "2021-06-01   4.282740\n",
      "2021-06-15   4.345642\n",
      "2021-07-01   4.525450\n",
      "2021-07-15   4.514217\n",
      "2021-08-01   4.515600\n",
      "\n",
      "[519 rows x 1 columns]\n"
     ]
    }
   ],
   "metadata": {}
  },
  {
   "cell_type": "code",
   "execution_count": 85,
   "source": [
    "confianza = pd.read_csv(\"./../data/confianza.csv\",parse_dates = [\"Fecha\"],date_parser = custom_date_parser)\r\n",
    "confianza.set_index(\"Fecha\",inplace=True)\r\n",
    "confianza = confianza.sort_index()\r\n",
    "\r\n",
    "#total data_set\r\n",
    "idx = pd.date_range('2000-01-01', periods=tipo_cambio.shape[0], freq='SMS')\r\n",
    "confianza.index = pd.DatetimeIndex(confianza.index)\r\n",
    "confianza = confianza.reindex(idx,fill_value = np.NaN)\r\n",
    "confianza = confianza.interpolate()\r\n",
    "print(confianza)"
   ],
   "outputs": [
    {
     "output_type": "stream",
     "name": "stdout",
     "text": [
      "            confianza_consumidor\n",
      "2000-01-01                  44.6\n",
      "2000-01-15                  44.6\n",
      "2000-02-01                  44.6\n",
      "2000-02-15                  44.6\n",
      "2000-03-01                  44.6\n",
      "...                          ...\n",
      "2021-06-01                  44.3\n",
      "2021-06-15                  44.3\n",
      "2021-07-01                  44.3\n",
      "2021-07-15                  44.3\n",
      "2021-08-01                  44.3\n",
      "\n",
      "[519 rows x 1 columns]\n"
     ]
    }
   ],
   "metadata": {}
  },
  {
   "cell_type": "code",
   "execution_count": null,
   "source": [],
   "outputs": [],
   "metadata": {}
  }
 ],
 "metadata": {
  "orig_nbformat": 4,
  "language_info": {
   "name": "python",
   "version": "3.8.8",
   "mimetype": "text/x-python",
   "codemirror_mode": {
    "name": "ipython",
    "version": 3
   },
   "pygments_lexer": "ipython3",
   "nbconvert_exporter": "python",
   "file_extension": ".py"
  },
  "kernelspec": {
   "name": "python3",
   "display_name": "Python 3.8.8 64-bit ('testenv': conda)"
  },
  "interpreter": {
   "hash": "c1a6086592d3c3ceeaffc3653784ed0a1aa5fd3017d1a49c44e4efe1998e0ca8"
  }
 },
 "nbformat": 4,
 "nbformat_minor": 2
}