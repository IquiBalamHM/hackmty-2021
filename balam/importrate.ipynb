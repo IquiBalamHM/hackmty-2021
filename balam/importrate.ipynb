{
 "cells": [
  {
   "cell_type": "code",
   "execution_count": 5,
   "source": [
    "import pandas as pd\r\n",
    "import numpy as np\r\n",
    "import matplotlib.pyplot as plt\r\n",
    "import seaborn as sn\r\n",
    "from datetime import datetime"
   ],
   "outputs": [],
   "metadata": {}
  },
  {
   "cell_type": "code",
   "execution_count": 12,
   "source": [
    "tipo = pd.read_csv(\"./../data/tipocambio.csv\")\r\n",
    "tipo.Fecha = tipo.Fecha.apply(lambda d: datetime.strptime(d,\"%m/%d/%Y\"))"
   ],
   "outputs": [],
   "metadata": {}
  },
  {
   "cell_type": "code",
   "execution_count": 16,
   "source": [
    "tipo = tipo.set_index('Fecha').resample('2W').size().reset_index(name='Tasa')"
   ],
   "outputs": [],
   "metadata": {}
  },
  {
   "cell_type": "code",
   "execution_count": 17,
   "source": [
    "print(tipo)"
   ],
   "outputs": [
    {
     "output_type": "stream",
     "name": "stdout",
     "text": [
      "         Fecha  Tasa\n",
      "0   2000-01-09     5\n",
      "1   2000-01-23     9\n",
      "2   2000-02-06    10\n",
      "3   2000-02-20    10\n",
      "4   2000-03-05     9\n",
      "..         ...   ...\n",
      "544 2020-11-15    12\n",
      "545 2020-11-29    12\n",
      "546 2020-12-13    12\n",
      "547 2020-12-27    12\n",
      "548 2021-01-10     4\n",
      "\n",
      "[549 rows x 2 columns]\n"
     ]
    }
   ],
   "metadata": {}
  }
 ],
 "metadata": {
  "orig_nbformat": 4,
  "language_info": {
   "name": "python",
   "version": "3.8.5",
   "mimetype": "text/x-python",
   "codemirror_mode": {
    "name": "ipython",
    "version": 3
   },
   "pygments_lexer": "ipython3",
   "nbconvert_exporter": "python",
   "file_extension": ".py"
  },
  "kernelspec": {
   "name": "python3",
   "display_name": "Python 3.8.8 64-bit ('testenv': conda)"
  },
  "interpreter": {
   "hash": "c1a6086592d3c3ceeaffc3653784ed0a1aa5fd3017d1a49c44e4efe1998e0ca8"
  }
 },
 "nbformat": 4,
 "nbformat_minor": 2
}