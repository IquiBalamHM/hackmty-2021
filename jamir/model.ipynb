{
    "cells": [
        {
            "cell_type": "code",
            "execution_count": 8,
            "source": [
                "import pandas as pd\n",
                "import numpy as np\n",
                "import matplotlib.pyplot as plt"
            ],
            "outputs": [],
            "metadata": {}
        },
        {
            "cell_type": "code",
            "execution_count": 16,
            "source": [
                "inflation = pd.read_csv(\"./../data/trainset.csv\")"
            ],
            "outputs": [],
            "metadata": {}
        },
        {
            "cell_type": "code",
            "execution_count": 20,
            "source": [
                "print(inflation)"
            ],
            "outputs": [
                {
                    "output_type": "stream",
                    "name": "stdout",
                    "text": [
                        "           Fecha  Principales Indices, Precios al Consumidor (INPC)  \\\n",
                        "0    1Q Ene 2000                                          44.809270   \n",
                        "1    2Q Ene 2000                                          45.052246   \n",
                        "2    1Q Feb 2000                                          45.272547   \n",
                        "3    2Q Feb 2000                                          45.386070   \n",
                        "4    1Q Mar 2000                                          45.530449   \n",
                        "..           ...                                                ...   \n",
                        "499  2Q Oct 2020                                         108.862000   \n",
                        "500  1Q Nov 2020                                         108.910000   \n",
                        "501  2Q Nov 2020                                         108.801000   \n",
                        "502  1Q Dic 2020                                         109.168000   \n",
                        "503  2Q Dic 2020                                         109.374000   \n",
                        "\n",
                        "     Principales Indices, Subyacente  \\\n",
                        "0                          48.801160   \n",
                        "1                          49.137179   \n",
                        "2                          49.413209   \n",
                        "3                          49.602727   \n",
                        "4                          49.756948   \n",
                        "..                               ...   \n",
                        "499                       108.771417   \n",
                        "500                       108.655288   \n",
                        "501                       108.628374   \n",
                        "502                       109.194891   \n",
                        "503                       109.278530   \n",
                        "\n",
                        "     SubIndices subyacente y complementarios, No subyacente  \n",
                        "0                                            33.976642       \n",
                        "1                                            34.017754       \n",
                        "2                                            34.112554       \n",
                        "3                                            34.066644       \n",
                        "4                                            34.181999       \n",
                        "..                                                 ...       \n",
                        "499                                         109.143718       \n",
                        "500                                         109.696268       \n",
                        "501                                         109.335673       \n",
                        "502                                         109.083505       \n",
                        "503                                         109.669671       \n",
                        "\n",
                        "[504 rows x 4 columns]\n"
                    ]
                }
            ],
            "metadata": {}
        },
        {
            "cell_type": "code",
            "execution_count": null,
            "source": [],
            "outputs": [],
            "metadata": {}
        }
    ],
    "metadata": {
        "orig_nbformat": 4,
        "language_info": {
            "name": "python",
            "version": "3.9.5",
            "mimetype": "text/x-python",
            "codemirror_mode": {
                "name": "ipython",
                "version": 3
            },
            "pygments_lexer": "ipython3",
            "nbconvert_exporter": "python",
            "file_extension": ".py"
        },
        "kernelspec": {
            "name": "python3",
            "display_name": "Python 3.9.5 64-bit"
        },
        "interpreter": {
            "hash": "aee8b7b246df8f9039afb4144a1f6fd8d2ca17a180786b69acc140d282b71a49"
        }
    },
    "nbformat": 4,
    "nbformat_minor": 2
}